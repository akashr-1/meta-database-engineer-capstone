{
 "cells": [
  {
   "cell_type": "code",
   "execution_count": null,
   "id": "873a4c66",
   "metadata": {},
   "outputs": [],
   "source": [
    "import mysql.connector\n",
    "import pandas as pd\n",
    "import numpy as np\n",
    "\n",
    "db_connection = mysql.connector.connect(\n",
    "    host='localhost',\n",
    "    user='root',\n",
    "    password='',\n",
    "    database='coursera_capstone'\n",
    ")\n",
    "cursor = db_connection.cursor()"
   ]
  },
  {
   "cell_type": "code",
   "execution_count": 7,
   "id": "22c896e7",
   "metadata": {},
   "outputs": [
    {
     "name": "stdout",
     "output_type": "stream",
     "text": [
      "Maximum Quantity: 5\n"
     ]
    }
   ],
   "source": [
    "# Create the GetMaxQuantity() procedure\n",
    "cursor.execute(\"\"\"\n",
    "CREATE PROCEDURE GetMaxQuantity()\n",
    "BEGIN\n",
    "    SELECT MAX(Quantity) AS MaxQuantity FROM Orders;\n",
    "END;\n",
    "\"\"\")\n",
    "\n",
    "# Call GetMaxQuantity() procedure\n",
    "cursor.callproc(\"GetMaxQuantity\")\n",
    "result_set = cursor.stored_results()\n",
    "result = result_set.fetchone()\n",
    "max_quantity = result[0]\n",
    "print(\"Maximum Quantity:\", max_quantity)"
   ]
  },
  {
   "cell_type": "code",
   "execution_count": 14,
   "id": "165384df",
   "metadata": {},
   "outputs": [
    {
     "name": "stdout",
     "output_type": "stream",
     "text": [
      "Table 1 is booked.\n",
      "Error: Table is already reserved\n"
     ]
    }
   ],
   "source": [
    "# Create the ManageBooking() procedure\n",
    "cursor.execute(\"\"\"\n",
    "CREATE PROCEDURE ManageBooking(IN order_id INT, IN new_status VARCHAR(50))\n",
    "BEGIN\n",
    "    DECLARE is_booked INT;\n",
    "    \n",
    "    -- Check if the table is already booked\n",
    "    SELECT COUNT(*) INTO is_booked FROM Bookings WHERE TableNumber = order_id AND Status = 'Booked';\n",
    "    \n",
    "    -- If the table is already booked, raise an error\n",
    "    IF is_booked > 0 THEN\n",
    "        SIGNAL SQLSTATE '45000' SET MESSAGE_TEXT = 'Table is already booked.';\n",
    "    ELSE\n",
    "        -- Update the booking status\n",
    "        UPDATE Bookings SET Status = new_status WHERE TableNumber = order_id;\n",
    "    END IF;\n",
    "END;\n",
    "\"\"\")\n",
    "cursor.execute(manage_booking_procedure)\n",
    "\n",
    "# Commit the changes\n",
    "conn.commit()\n",
    "\n",
    "# Call ManageBooking() procedure with order_id=1 and new_status='Booked' (Assuming the table 1 is available)\n",
    "try:\n",
    "    cursor.callproc(\"ManageBooking\", [1, 'Booked'])\n",
    "    conn.commit()\n",
    "    print(\"Table 1 is booked.\")\n",
    "except mysql.connector.Error as err:\n",
    "    print(\"Error:\", err.msg)\n",
    "\n",
    "# Call ManageBooking() procedure with order_id=2 and new_status='Booked' (Assuming the table 2 is already booked)\n",
    "try:\n",
    "    cursor.callproc(\"ManageBooking\", [2, 'Booked'])\n",
    "    conn.commit()\n",
    "    print(\"Table 2 is booked.\")\n",
    "except mysql.connector.Error as err:\n",
    "    print(\"Error: Table is already reserved\")"
   ]
  },
  {
   "cell_type": "code",
   "execution_count": 15,
   "id": "c07683c2",
   "metadata": {},
   "outputs": [
    {
     "name": "stdout",
     "output_type": "stream",
     "text": [
      "Booking with ID 11 is added.\n"
     ]
    }
   ],
   "source": [
    "# Create the AddBooking() procedure\n",
    "cursor.execute(\"\"\"\n",
    "CREATE PROCEDURE AddBooking(IN booking_id INT, IN menu_id INT, IN customer_id INT, IN total_cost DECIMAL(10, 2))\n",
    "BEGIN\n",
    "    INSERT INTO Orders (OrderID, MenuID, CustomerID, TotalCost) VALUES (booking_id, menu_id, customer_id, total_cost);\n",
    "END;\n",
    "\"\"\")\n",
    "\n",
    "# Call AddBooking() procedure\n",
    "booking_id = 11\n",
    "menu_id = 1\n",
    "customer_id = 1\n",
    "total_cost = 100.00\n",
    "cursor.callproc(\"AddBooking\", [booking_id, menu_id, customer_id, total_cost])\n",
    "conn.commit()\n",
    "print(\"Booking with ID 11 is added.\")"
   ]
  },
  {
   "cell_type": "code",
   "execution_count": 16,
   "id": "56c9e9e3",
   "metadata": {},
   "outputs": [
    {
     "name": "stdout",
     "output_type": "stream",
     "text": [
      "Order with ID 2 is updated.\n"
     ]
    }
   ],
   "source": [
    "# Create the UpdateBooking() procedure\n",
    "cursor.execute(\"\"\"\n",
    "CREATE PROCEDURE UpdateBooking(IN order_id INT, IN menu_id INT, IN customer_id INT, IN total_cost DECIMAL(10, 2))\n",
    "BEGIN\n",
    "    UPDATE Orders SET MenuID = menu_id, CustomerID = customer_id, TotalCost = total_cost WHERE OrderID = order_id;\n",
    "END;\n",
    "\"\"\")\n",
    "\n",
    "# Call UpdateBooking() procedure\n",
    "order_id = 2\n",
    "menu_id = 2\n",
    "customer_id = 2\n",
    "total_cost = 150.00\n",
    "cursor.callproc(\"UpdateBooking\", [order_id, menu_id, customer_id, total_cost])\n",
    "conn.commit()"
   ]
  },
  {
   "cell_type": "code",
   "execution_count": 17,
   "id": "3e0fb17a",
   "metadata": {},
   "outputs": [
    {
     "name": "stdout",
     "output_type": "stream",
     "text": [
      "Order with ID 3 is canceled.\n"
     ]
    }
   ],
   "source": [
    "# Create the CancelBooking() procedure\n",
    "cursor.execute(\"\"\"\n",
    "CREATE PROCEDURE CancelBooking(IN order_id INT)\n",
    "BEGIN\n",
    "    DELETE FROM Orders WHERE OrderID = order_id;\n",
    "END;\n",
    "\"\"\")\n",
    "\n",
    "# Call CancelBooking() procedure\n",
    "order_id = 3\n",
    "cursor.callproc(\"CancelBooking\", [order_id])\n",
    "conn.commit()"
   ]
  }
 ],
 "metadata": {
  "kernelspec": {
   "display_name": "Python 3 (ipykernel)",
   "language": "python",
   "name": "python3"
  },
  "language_info": {
   "codemirror_mode": {
    "name": "ipython",
    "version": 3
   },
   "file_extension": ".py",
   "mimetype": "text/x-python",
   "name": "python",
   "nbconvert_exporter": "python",
   "pygments_lexer": "ipython3",
   "version": "3.9.7"
  }
 },
 "nbformat": 4,
 "nbformat_minor": 5
}
