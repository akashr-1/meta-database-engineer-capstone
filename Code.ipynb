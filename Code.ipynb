{
 "cells": [
  {
   "cell_type": "code",
   "execution_count": null,
   "id": "873a4c66",
   "metadata": {},
   "outputs": [],
   "source": [
    "import mysql.connector\n",
    "import pandas as pd\n",
    "import numpy as np\n",
    "\n",
    "db_connection = mysql.connector.connect(\n",
    "    host='localhost',\n",
    "    user='root',\n",
    "    password='',\n",
    "    database='coursera_capstone'\n",
    ")\n",
    "cursor = db_connection.cursor()"
   ]
  },
  {
   "cell_type": "code",
   "execution_count": 18,
   "id": "94501953",
   "metadata": {},
   "outputs": [],
   "source": [
    "# Create the GetMaxQuantity() procedure\n",
    "cursor.execute(\"\"\"\n",
    "CREATE PROCEDURE GetMaxQuantity()\n",
    "    BEGIN\n",
    "        SELECT MAX(Quantity) AS MaxQuantity FROM Orders;\n",
    "    END\n",
    "\"\"\")"
   ]
  },
  {
   "cell_type": "code",
   "execution_count": null,
   "id": "22c896e7",
   "metadata": {},
   "outputs": [],
   "source": [
    "# Call the GetMaxQuantity() procedure\n",
    "cursor.callproc(\"GetMaxQuantity\")\n",
    "\n",
    "# Get the list_iterator object from the procedure call\n",
    "result_set = cursor.stored_results()\n",
    "\n",
    "# Extract the result set from the list_iterator using next()\n",
    "result = next(result_set)\n",
    "\n",
    "# Fetch the result from the result set\n",
    "max_quantity = result.fetchone()[0]\n",
    "\n",
    "# Check if the result is not None before accessing its value\n",
    "if max_quantity is not None:\n",
    "    print(\"Maximum Quantity:\", max_quantity)\n",
    "else:\n",
    "    print(\"No result returned from the procedure.\")"
   ]
  },
  {
   "cell_type": "code",
   "execution_count": 26,
   "id": "e30e9735",
   "metadata": {},
   "outputs": [],
   "source": [
    "# Create the ManageBooking() procedure\n",
    "cursor.execute(\"\"\"\n",
    "CREATE PROCEDURE ManageBooking(IN order_id INT, IN new_status VARCHAR(50))\n",
    "    BEGIN\n",
    "        UPDATE Orders\n",
    "        SET OrderStatus = new_status\n",
    "        WHERE OrderID = order_id;\n",
    "    END\n",
    "\"\"\")"
   ]
  },
  {
   "cell_type": "code",
   "execution_count": null,
   "id": "04cd0c87",
   "metadata": {},
   "outputs": [],
   "source": [
    "# Call the ManageBooking() procedure with the order_id and new_status parameters\n",
    "order_id = 1  # Replace 1 with the actual order_id you want to update\n",
    "new_status = 'Completed'  # Replace 'Completed' with the new status you want to set\n",
    "cursor.callproc(\"ManageBooking\", (order_id, new_status))\n",
    "\n",
    "# Commit the changes to the database\n",
    "connection.commit()\n",
    "\n",
    "print(\"Booking status updated successfully.\")"
   ]
  },
  {
   "cell_type": "code",
   "execution_count": null,
   "id": "472d6c11",
   "metadata": {},
   "outputs": [],
   "source": [
    "# Create the UpdateBooking() procedure\n",
    "cursor.execute(\"\"\"\n",
    "CREATE PROCEDURE UpdateBooking(IN order_id INT, IN new_quantity INT)\n",
    "    BEGIN\n",
    "        UPDATE Orders\n",
    "        SET Quantity = new_quantity\n",
    "        WHERE OrderID = order_id;\n",
    "    END\n",
    "    \"\"\")"
   ]
  },
  {
   "cell_type": "code",
   "execution_count": null,
   "id": "165384df",
   "metadata": {},
   "outputs": [],
   "source": [
    "# Create a cursor object to execute SQL commands\n",
    "cursor = connection.cursor()\n",
    "\n",
    "# Call the UpdateBooking() procedure with the required parameters\n",
    "order_id = 123  # Replace with the actual OrderID\n",
    "new_quantity = 5  # Replace with the new quantity you want to set\n",
    "\n",
    "cursor.callproc('UpdateBooking', (order_id, new_quantity))\n",
    "\n",
    "# Commit the changes to the database\n",
    "connection.commit()"
   ]
  },
  {
   "cell_type": "code",
   "execution_count": null,
   "id": "824b15d9",
   "metadata": {},
   "outputs": [],
   "source": [
    "# Create the AddBooking() procedure\n",
    "cursor.execute(\"\"\"\n",
    "CREATE PROCEDURE AddBooking(IN order_id INT, IN order_date DATE, IN customer_id INT, IN quantity INT)\n",
    "    BEGIN\n",
    "        INSERT INTO Orders (OrderID, OrderDate, CustomerID, Quantity)\n",
    "        VALUES (order_id, order_date, customer_id, quantity);\n",
    "    END\n",
    "\"\"\")"
   ]
  },
  {
   "cell_type": "code",
   "execution_count": null,
   "id": "c07683c2",
   "metadata": {},
   "outputs": [],
   "source": [
    "# Call the AddBooking() procedure with the required parameters\n",
    "order_id = 1  # Replace with the actual OrderID\n",
    "order_date = '2023-08-05'  # Replace with the actual OrderDate\n",
    "customer_id = 3  # Replace with the actual CustomerID\n",
    "quantity = 10  # Replace with the actual Quantity\n",
    "\n",
    "cursor.callproc('AddBooking', (order_id, order_date, customer_id, quantity))\n",
    "\n",
    "# Commit the changes to the database\n",
    "connection.commit()"
   ]
  },
  {
   "cell_type": "code",
   "execution_count": null,
   "id": "56c9e9e3",
   "metadata": {},
   "outputs": [],
   "source": [
    "# Create the CancelBooking() procedure\n",
    "cursor.execute(\"\"\"\n",
    "CREATE PROCEDURE CancelBooking(IN order_id INT)\n",
    "    BEGIN\n",
    "        DELETE FROM Orders\n",
    "        WHERE OrderID = order_id;\n",
    "    END\n",
    "\"\"\")"
   ]
  },
  {
   "cell_type": "code",
   "execution_count": null,
   "id": "80d05c8b",
   "metadata": {},
   "outputs": [],
   "source": [
    "# Call the CancelBooking() procedure with the required parameters\n",
    "order_id = 1  # Replace with the actual OrderID you want to cancel\n",
    "\n",
    "cursor.callproc('CancelBooking', (order_id))\n",
    "\n",
    "# Commit the changes to the database\n",
    "connection.commit()"
   ]
  },
  {
   "cell_type": "code",
   "execution_count": null,
   "id": "3e0fb17a",
   "metadata": {},
   "outputs": [],
   "source": []
  }
 ],
 "metadata": {
  "kernelspec": {
   "display_name": "Python 3 (ipykernel)",
   "language": "python",
   "name": "python3"
  },
  "language_info": {
   "codemirror_mode": {
    "name": "ipython",
    "version": 3
   },
   "file_extension": ".py",
   "mimetype": "text/x-python",
   "name": "python",
   "nbconvert_exporter": "python",
   "pygments_lexer": "ipython3",
   "version": "3.9.7"
  }
 },
 "nbformat": 4,
 "nbformat_minor": 5
}
